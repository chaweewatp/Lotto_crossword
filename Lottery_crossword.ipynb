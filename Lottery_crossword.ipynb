{
 "cells": [
  {
   "cell_type": "code",
   "execution_count": 1,
   "metadata": {
    "collapsed": true
   },
   "outputs": [],
   "source": [
    "class lotto_crossword:\n",
    "    def __init__(self):\n",
    "        self.count_winning_word_set=0\n",
    "        self.winning_words_set=[]\n",
    "        self.winning_words_set=set()\n",
    "        self.words_set=[]\n",
    "        self.words_list=[]\n",
    "        self.letters_set=set()\n",
    "        self.remain_letter={}\n",
    "        \n",
    "    def add_word(self, word):\n",
    "        self.words_list.append(word)\n",
    "        self.words_set.append(set([letter for letter in word]))\n",
    "        self.remain_letter.update({word:set(word)})\n",
    "    def add_letter(self, letters):\n",
    "        if letters not in self.letters_set:\n",
    "            for letter in letters:\n",
    "                self.letters_set.add(letter)\n",
    "                for key1 in self.remain_letter.keys():\n",
    "                    self.remain_letter.update({key1:set(self.remain_letter[key1])-self.letters_set})\n",
    "            for word in self.words_list:\n",
    "                if set(word).issubset(self.letters_set):\n",
    "                    self.winning_words_set.add(word)\n",
    "                self.count_winning_word_set=len(self.winning_words_set)\n"
   ]
  },
  {
   "cell_type": "code",
   "execution_count": 45,
   "metadata": {
    "collapsed": true
   },
   "outputs": [],
   "source": [
    "lotto_1=lotto_crossword()\n",
    "\n",
    "lotto_1.add_word('confusing')\n",
    "lotto_1.add_word('airspeed')\n",
    "lotto_1.add_word('via')\n",
    "lotto_1.add_word('arrow')\n",
    "lotto_1.add_word('they')\n",
    "lotto_1.add_word('employer')\n",
    "lotto_1.add_word('curl')\n",
    "lotto_1.add_word('duct')\n",
    "lotto_1.add_word('onto')\n",
    "lotto_1.add_word('skew')\n",
    "lotto_1.add_word('few')\n",
    "lotto_1.add_word('cravat')\n",
    "lotto_1.add_word('lurk')\n",
    "lotto_1.add_word('age')\n",
    "lotto_1.add_word('yellow')\n",
    "lotto_1.add_word('unit')\n",
    "lotto_1.add_word('party')\n",
    "lotto_1.add_word('install')\n",
    "lotto_1.add_word('old')\n",
    "lotto_1.add_word('early')\n",
    "lotto_1.add_word('use')\n",
    "lotto_1.add_word('warmth')"
   ]
  },
  {
   "cell_type": "code",
   "execution_count": 48,
   "metadata": {},
   "outputs": [
    {
     "name": "stdout",
     "output_type": "stream",
     "text": [
      "{'confusing': {'o'}, 'airspeed': {'e'}, 'via': set(), 'arrow': {'o'}, 'they': {'t', 'e'}, 'employer': {'l', 'e', 'o'}, 'curl': {'l'}, 'duct': {'t'}, 'onto': {'t', 'o'}, 'skew': {'e'}, 'few': {'e'}, 'cravat': {'t'}, 'lurk': {'l'}, 'age': {'e'}, 'yellow': {'e', 'l', 'o'}, 'unit': {'t'}, 'party': {'t'}, 'install': {'t', 'l'}, 'old': {'l', 'o'}, 'early': {'e', 'l'}, 'use': {'e'}, 'warmth': {'t'}}\n"
     ]
    }
   ],
   "source": [
    "print(lotto_1.remain_letter)"
   ]
  },
  {
   "cell_type": "code",
   "execution_count": 49,
   "metadata": {},
   "outputs": [
    {
     "name": "stdout",
     "output_type": "stream",
     "text": [
      "{'y', 'r', 'n', 'b', 'a', 'k', 's', 'u', 'w', 'f', 'g', 'p', 'd', 'h', 'q', 'c', 'm', 'i', 'v', 'j'}\n",
      "number of winning words 1\n",
      "winning words {'via'}\n",
      "{'confusing': {'o'}, 'airspeed': {'e'}, 'via': set(), 'arrow': {'o'}, 'they': {'t', 'e'}, 'employer': {'l', 'e', 'o'}, 'curl': {'l'}, 'duct': {'t'}, 'onto': {'t', 'o'}, 'skew': {'e'}, 'few': {'e'}, 'cravat': {'t'}, 'lurk': {'l'}, 'age': {'e'}, 'yellow': {'e', 'l', 'o'}, 'unit': {'t'}, 'party': {'t'}, 'install': {'t', 'l'}, 'old': {'l', 'o'}, 'early': {'e', 'l'}, 'use': {'e'}, 'warmth': {'t'}}\n",
      "{'via'}\n"
     ]
    }
   ],
   "source": [
    "lotto_1.add_letter('iqjmdfhwbavrykncuspg')\n",
    "print(lotto_1.letters_set)\n",
    "print('number of winning words {}'.format(lotto_1.count_winning_word_set))\n",
    "print('winning words {}'.format(lotto_1.winning_words_set))\n",
    "print(lotto_1.remain_letter)\n",
    "print(lotto_1.winning_words_set)"
   ]
  },
  {
   "cell_type": "code",
   "execution_count": 68,
   "metadata": {
    "collapsed": true
   },
   "outputs": [],
   "source": [
    "lotto_2=lotto_crossword()\n",
    "\n",
    "lotto_2.add_word('dub')\n",
    "lotto_2.add_word('obedience')\n",
    "lotto_2.add_word('yes')\n",
    "lotto_2.add_word('ice')\n",
    "lotto_2.add_word('scrap')\n",
    "lotto_2.add_word('genius')\n",
    "lotto_2.add_word('laser')\n",
    "lotto_2.add_word('aqua')\n",
    "lotto_2.add_word('cry')\n",
    "lotto_2.add_word('etch')\n",
    "lotto_2.add_word('shred')\n",
    "lotto_2.add_word('duty')\n",
    "lotto_2.add_word('eggplant')\n",
    "lotto_2.add_word('boss')\n",
    "lotto_2.add_word('such')\n",
    "lotto_2.add_word('definite')\n",
    "lotto_2.add_word('ray')\n",
    "lotto_2.add_word('finesse')\n",
    "lotto_2.add_word('much')\n",
    "lotto_2.add_word('intern')\n",
    "lotto_2.add_word('recipe')\n",
    "lotto_2.add_word('held')"
   ]
  },
  {
   "cell_type": "code",
   "execution_count": 69,
   "metadata": {},
   "outputs": [
    {
     "name": "stdout",
     "output_type": "stream",
     "text": [
      "{'t', 'n', 'b', 'k', 'z', 'r', 'a', 'g', 'f', 'p', 'd', 'h', 'q', 'i', 's', 'l', 'm', 'v', 'j', 'o'}\n",
      "number of winning words 1\n",
      "winning words {'boss'}\n",
      "{'dub': {'u'}, 'obedience': {'c', 'e'}, 'yes': {'y', 'e'}, 'ice': {'c', 'e'}, 'scrap': {'c'}, 'genius': {'u', 'e'}, 'laser': {'e'}, 'aqua': {'u'}, 'cry': {'y', 'c'}, 'etch': {'c', 'e'}, 'shred': {'e'}, 'duty': {'u', 'y'}, 'eggplant': {'e'}, 'boss': set(), 'such': {'u', 'c'}, 'definite': {'e'}, 'ray': {'y'}, 'finesse': {'e'}, 'much': {'u', 'c'}, 'intern': {'e'}, 'recipe': {'c', 'e'}, 'held': {'e'}}\n",
      "{'boss'}\n"
     ]
    }
   ],
   "source": [
    "lotto_2.add_letter('bvtiqndkpzrjagsfolhm')\n",
    "print(lotto_2.letters_set)\n",
    "print('number of winning words {}'.format(lotto_2.count_winning_word_set))\n",
    "print('winning words {}'.format(lotto_2.winning_words_set))\n",
    "print(lotto_2.remain_letter)\n",
    "print(lotto_2.winning_words_set)"
   ]
  },
  {
   "cell_type": "code",
   "execution_count": null,
   "metadata": {
    "collapsed": true
   },
   "outputs": [],
   "source": []
  },
  {
   "cell_type": "code",
   "execution_count": null,
   "metadata": {
    "collapsed": true
   },
   "outputs": [],
   "source": []
  }
 ],
 "metadata": {
  "kernelspec": {
   "display_name": "Python 3",
   "language": "python",
   "name": "python3"
  },
  "language_info": {
   "codemirror_mode": {
    "name": "ipython",
    "version": 3
   },
   "file_extension": ".py",
   "mimetype": "text/x-python",
   "name": "python",
   "nbconvert_exporter": "python",
   "pygments_lexer": "ipython3",
   "version": "3.6.8"
  }
 },
 "nbformat": 4,
 "nbformat_minor": 2
}
