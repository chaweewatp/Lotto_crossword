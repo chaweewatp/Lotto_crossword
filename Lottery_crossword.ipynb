{
 "cells": [
  {
   "cell_type": "code",
   "execution_count": 463,
   "metadata": {},
   "outputs": [],
   "source": [
    "class lotto_crossword:\n",
    "    def __init__(self):\n",
    "        self.count_winning_word_set=0\n",
    "        self.winning_words_set=[]\n",
    "        self.winning_words_set=set()\n",
    "        self.words_set=[]\n",
    "        self.words_list=[]\n",
    "        self.letters_set=set()\n",
    "        self.remain_letter={}\n",
    "        \n",
    "    def add_word(self, word):\n",
    "        self.words_list.append(word)\n",
    "        self.words_set.append(set([letter for letter in word]))\n",
    "        self.remain_letter.update({word:set(word)})\n",
    "    def add_letter(self, letters):\n",
    "        if letters not in self.letters_set:\n",
    "            for letter in letters:\n",
    "                self.letters_set.add(letter)\n",
    "                for key1 in self.remain_letter.keys():\n",
    "                    self.remain_letter.update({key1:set(self.remain_letter[key1])-self.letters_set})\n",
    "            for word in self.words_list:\n",
    "                if set(word).issubset(self.letters_set):\n",
    "                    self.winning_words_set.add(word)\n",
    "                self.count_winning_word_set=len(self.winning_words_set)\n"
   ]
  },
  {
   "cell_type": "code",
   "execution_count": 513,
   "metadata": {},
   "outputs": [],
   "source": [
    "lotto_1=lotto_crossword()\n",
    "\n",
    "lotto_1.add_word('oliver')\n",
    "lotto_1.add_word('ounce')\n",
    "lotto_1.add_word('ban')\n",
    "lotto_1.add_word('thermal')\n",
    "lotto_1.add_word('sonic')\n",
    "lotto_1.add_word('sir')\n",
    "lotto_1.add_word('scrutiny')\n",
    "lotto_1.add_word('trio')\n",
    "lotto_1.add_word('telephone')\n",
    "lotto_1.add_word('obey')\n",
    "lotto_1.add_word('toy')\n",
    "lotto_1.add_word('sour')\n",
    "lotto_1.add_word('lint')\n",
    "lotto_1.add_word('handsome')\n",
    "lotto_1.add_word('vase')\n",
    "lotto_1.add_word('record')\n",
    "lotto_1.add_word('room')\n",
    "lotto_1.add_word('assets')\n",
    "lotto_1.add_word('nil')\n",
    "lotto_1.add_word('ran')\n",
    "lotto_1.add_word('relax')\n",
    "lotto_1.add_word('yore')\n",
    "\n"
   ]
  },
  {
   "cell_type": "code",
   "execution_count": 514,
   "metadata": {},
   "outputs": [
    {
     "name": "stdout",
     "output_type": "stream",
     "text": [
      "{'oliver': {'v', 'l', 'o', 'r', 'e', 'i'}, 'ounce': {'u', 'o', 'n', 'e', 'c'}, 'ban': {'a', 'n', 'b'}, 'thermal': {'l', 'm', 'h', 't', 'r', 'e', 'a'}, 'sonic': {'s', 'o', 'n', 'i', 'c'}, 'sir': {'r', 'i', 's'}, 'scrutiny': {'y', 'u', 's', 't', 'r', 'n', 'i', 'c'}, 'trio': {'r', 'i', 'o', 't'}, 'telephone': {'l', 'h', 'o', 't', 'n', 'e', 'p'}, 'obey': {'y', 'e', 'o', 'b'}, 'toy': {'y', 'o', 't'}, 'sour': {'r', 'u', 'o', 's'}, 'lint': {'n', 'i', 'l', 't'}, 'handsome': {'d', 's', 'm', 'h', 'o', 'n', 'e', 'a'}, 'vase': {'a', 'e', 'v', 's'}, 'record': {'d', 'o', 'r', 'e', 'c'}, 'room': {'m', 'r', 'o'}, 'assets': {'a', 'e', 's', 't'}, 'nil': {'n', 'i', 'l'}, 'ran': {'r', 'n', 'a'}, 'relax': {'l', 'x', 'r', 'e', 'a'}, 'yore': {'y', 'r', 'e', 'o'}}\n"
     ]
    }
   ],
   "source": [
    "print(lotto_1.remain_letter)\n",
    "\n"
   ]
  },
  {
   "cell_type": "code",
   "execution_count": 515,
   "metadata": {},
   "outputs": [
    {
     "name": "stdout",
     "output_type": "stream",
     "text": [
      "{'g', 'y', 'f', 'u', 'k', 'l', 'v', 'x', 'm', 'h', 'z', 'd', 's', 'j', 't', 'n', 'e', 'p', 'a', 'c'}\n",
      "number of winning words 2\n",
      "winning words {'assets', 'vase'}\n",
      "{'oliver': {'r', 'i', 'o'}, 'ounce': {'o'}, 'ban': {'b'}, 'thermal': {'r'}, 'sonic': {'i', 'o'}, 'sir': {'r', 'i'}, 'scrutiny': {'r', 'i'}, 'trio': {'r', 'i', 'o'}, 'telephone': {'o'}, 'obey': {'o', 'b'}, 'toy': {'o'}, 'sour': {'r', 'o'}, 'lint': {'i'}, 'handsome': {'o'}, 'vase': set(), 'record': {'r', 'o'}, 'room': {'r', 'o'}, 'assets': set(), 'nil': {'i'}, 'ran': {'r'}, 'relax': {'r'}, 'yore': {'r', 'o'}}\n",
      "{'assets', 'vase'}\n"
     ]
    }
   ],
   "source": [
    "lotto_1.add_letter('ykumnchjlxpveftzdasg')\n",
    "print(lotto_1.letters_set)\n",
    "print('number of winning words {}'.format(lotto_1.count_winning_word_set))\n",
    "print('winning words {}'.format(lotto_1.winning_words_set))\n",
    "print(lotto_1.remain_letter)\n",
    "print(lotto_1.winning_words_set)"
   ]
  },
  {
   "cell_type": "code",
   "execution_count": 472,
   "metadata": {
    "collapsed": true
   },
   "outputs": [],
   "source": [
    "lotto_2=lotto_crossword()\n",
    "\n",
    "lotto_2.add_word('velvet')\n",
    "lotto_2.add_word('ink')\n",
    "lotto_2.add_word('zoology')\n",
    "lotto_2.add_word('low')\n",
    "lotto_2.add_word('gentle')\n",
    "lotto_2.add_word('also')\n",
    "lotto_2.add_word('needless')\n",
    "lotto_2.add_word('zigzag')\n",
    "lotto_2.add_word('even')\n",
    "lotto_2.add_word('own')\n",
    "lotto_2.add_word('true')\n",
    "lotto_2.add_word('earl')\n",
    "lotto_2.add_word('vinyl')\n",
    "lotto_2.add_word('oasis')\n",
    "lotto_2.add_word('throw')"
   ]
  },
  {
   "cell_type": "code",
   "execution_count": 473,
   "metadata": {},
   "outputs": [
    {
     "name": "stdout",
     "output_type": "stream",
     "text": [
      "{'w', 'y', 'f', 'u', 'k', 's', 'd', 'z', 'm', 'h', 'p', 'v', 'x', 't', 'r', 'e', 'g', 'q', 'i', 'c'}\n",
      "number of winning words 1\n",
      "winning words {'true'}\n",
      "{'velvet': {'l'}, 'ink': {'n'}, 'zoology': {'l', 'o'}, 'low': {'l', 'o'}, 'gentle': {'n', 'l'}, 'also': {'a', 'l', 'o'}, 'needless': {'n', 'l'}, 'zigzag': {'a'}, 'even': {'n'}, 'own': {'n', 'o'}, 'true': set(), 'earl': {'a', 'l'}, 'vinyl': {'n', 'l'}, 'oasis': {'a', 'o'}, 'throw': {'o'}}\n"
     ]
    }
   ],
   "source": [
    "lotto_2.add_letter('qwshgkrympudzvftecxi')\n",
    "print(lotto_2.letters_set)\n",
    "print('number of winning words {}'.format(lotto_2.count_winning_word_set))\n",
    "print('winning words {}'.format(lotto_2.winning_words_set))\n",
    "print(lotto_2.remain_letter)"
   ]
  },
  {
   "cell_type": "code",
   "execution_count": null,
   "metadata": {
    "collapsed": true
   },
   "outputs": [],
   "source": []
  },
  {
   "cell_type": "code",
   "execution_count": null,
   "metadata": {
    "collapsed": true
   },
   "outputs": [],
   "source": []
  }
 ],
 "metadata": {
  "kernelspec": {
   "display_name": "Python 3",
   "language": "python",
   "name": "python3"
  },
  "language_info": {
   "codemirror_mode": {
    "name": "ipython",
    "version": 3
   },
   "file_extension": ".py",
   "mimetype": "text/x-python",
   "name": "python",
   "nbconvert_exporter": "python",
   "pygments_lexer": "ipython3",
   "version": "3.6.8"
  }
 },
 "nbformat": 4,
 "nbformat_minor": 2
}
